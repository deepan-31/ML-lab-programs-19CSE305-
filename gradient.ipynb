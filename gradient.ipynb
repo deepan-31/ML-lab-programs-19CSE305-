{
  "nbformat": 4,
  "nbformat_minor": 0,
  "metadata": {
    "colab": {
      "provenance": [],
      "collapsed_sections": [],
      "authorship_tag": "ABX9TyMrHJCH1DUoazh2h8ogpv8L",
      "include_colab_link": true
    },
    "kernelspec": {
      "name": "python3",
      "display_name": "Python 3"
    },
    "language_info": {
      "name": "python"
    }
  },
  "cells": [
    {
      "cell_type": "markdown",
      "metadata": {
        "id": "view-in-github",
        "colab_type": "text"
      },
      "source": [
        "<a href=\"https://colab.research.google.com/github/deepan-31/Machine-Learning-lab-programs/blob/main/gradient.ipynb\" target=\"_parent\"><img src=\"https://colab.research.google.com/assets/colab-badge.svg\" alt=\"Open In Colab\"/></a>"
      ]
    },
    {
      "cell_type": "markdown",
      "source": [
        "*gradient descent*"
      ],
      "metadata": {
        "id": "K-yGvygjCqMX"
      }
    },
    {
      "cell_type": "code",
      "execution_count": null,
      "metadata": {
        "id": "z3Oowx74COd7"
      },
      "outputs": [],
      "source": [
        "import pandas as pd\n",
        "import matplotlib.pyplot as plt\n",
        "import seaborn as sb\n",
        "import numpy as np"
      ]
    },
    {
      "cell_type": "code",
      "source": [
        "data = pd.read_csv(\"/content/data.csv\")\n",
        "data.columns = ['x','y']\n",
        "data"
      ],
      "metadata": {
        "colab": {
          "base_uri": "https://localhost:8080/",
          "height": 424
        },
        "id": "dx7A2WqbCe3g",
        "outputId": "180cb16f-871e-4479-a37b-8355f8bea5d4"
      },
      "execution_count": null,
      "outputs": [
        {
          "output_type": "execute_result",
          "data": {
            "text/plain": [
              "            x          y\n",
              "0   53.426804  68.777596\n",
              "1   61.530358  62.562382\n",
              "2   47.475640  71.546632\n",
              "3   59.813208  87.230925\n",
              "4   55.142188  78.211518\n",
              "..        ...        ...\n",
              "94  50.030174  81.536991\n",
              "95  49.239765  72.111832\n",
              "96  50.039576  85.232007\n",
              "97  48.149859  66.224958\n",
              "98  25.128485  53.454394\n",
              "\n",
              "[99 rows x 2 columns]"
            ],
            "text/html": [
              "\n",
              "  <div id=\"df-0d629aab-3278-4936-81bc-aadda91faa27\">\n",
              "    <div class=\"colab-df-container\">\n",
              "      <div>\n",
              "<style scoped>\n",
              "    .dataframe tbody tr th:only-of-type {\n",
              "        vertical-align: middle;\n",
              "    }\n",
              "\n",
              "    .dataframe tbody tr th {\n",
              "        vertical-align: top;\n",
              "    }\n",
              "\n",
              "    .dataframe thead th {\n",
              "        text-align: right;\n",
              "    }\n",
              "</style>\n",
              "<table border=\"1\" class=\"dataframe\">\n",
              "  <thead>\n",
              "    <tr style=\"text-align: right;\">\n",
              "      <th></th>\n",
              "      <th>x</th>\n",
              "      <th>y</th>\n",
              "    </tr>\n",
              "  </thead>\n",
              "  <tbody>\n",
              "    <tr>\n",
              "      <th>0</th>\n",
              "      <td>53.426804</td>\n",
              "      <td>68.777596</td>\n",
              "    </tr>\n",
              "    <tr>\n",
              "      <th>1</th>\n",
              "      <td>61.530358</td>\n",
              "      <td>62.562382</td>\n",
              "    </tr>\n",
              "    <tr>\n",
              "      <th>2</th>\n",
              "      <td>47.475640</td>\n",
              "      <td>71.546632</td>\n",
              "    </tr>\n",
              "    <tr>\n",
              "      <th>3</th>\n",
              "      <td>59.813208</td>\n",
              "      <td>87.230925</td>\n",
              "    </tr>\n",
              "    <tr>\n",
              "      <th>4</th>\n",
              "      <td>55.142188</td>\n",
              "      <td>78.211518</td>\n",
              "    </tr>\n",
              "    <tr>\n",
              "      <th>...</th>\n",
              "      <td>...</td>\n",
              "      <td>...</td>\n",
              "    </tr>\n",
              "    <tr>\n",
              "      <th>94</th>\n",
              "      <td>50.030174</td>\n",
              "      <td>81.536991</td>\n",
              "    </tr>\n",
              "    <tr>\n",
              "      <th>95</th>\n",
              "      <td>49.239765</td>\n",
              "      <td>72.111832</td>\n",
              "    </tr>\n",
              "    <tr>\n",
              "      <th>96</th>\n",
              "      <td>50.039576</td>\n",
              "      <td>85.232007</td>\n",
              "    </tr>\n",
              "    <tr>\n",
              "      <th>97</th>\n",
              "      <td>48.149859</td>\n",
              "      <td>66.224958</td>\n",
              "    </tr>\n",
              "    <tr>\n",
              "      <th>98</th>\n",
              "      <td>25.128485</td>\n",
              "      <td>53.454394</td>\n",
              "    </tr>\n",
              "  </tbody>\n",
              "</table>\n",
              "<p>99 rows × 2 columns</p>\n",
              "</div>\n",
              "      <button class=\"colab-df-convert\" onclick=\"convertToInteractive('df-0d629aab-3278-4936-81bc-aadda91faa27')\"\n",
              "              title=\"Convert this dataframe to an interactive table.\"\n",
              "              style=\"display:none;\">\n",
              "        \n",
              "  <svg xmlns=\"http://www.w3.org/2000/svg\" height=\"24px\"viewBox=\"0 0 24 24\"\n",
              "       width=\"24px\">\n",
              "    <path d=\"M0 0h24v24H0V0z\" fill=\"none\"/>\n",
              "    <path d=\"M18.56 5.44l.94 2.06.94-2.06 2.06-.94-2.06-.94-.94-2.06-.94 2.06-2.06.94zm-11 1L8.5 8.5l.94-2.06 2.06-.94-2.06-.94L8.5 2.5l-.94 2.06-2.06.94zm10 10l.94 2.06.94-2.06 2.06-.94-2.06-.94-.94-2.06-.94 2.06-2.06.94z\"/><path d=\"M17.41 7.96l-1.37-1.37c-.4-.4-.92-.59-1.43-.59-.52 0-1.04.2-1.43.59L10.3 9.45l-7.72 7.72c-.78.78-.78 2.05 0 2.83L4 21.41c.39.39.9.59 1.41.59.51 0 1.02-.2 1.41-.59l7.78-7.78 2.81-2.81c.8-.78.8-2.07 0-2.86zM5.41 20L4 18.59l7.72-7.72 1.47 1.35L5.41 20z\"/>\n",
              "  </svg>\n",
              "      </button>\n",
              "      \n",
              "  <style>\n",
              "    .colab-df-container {\n",
              "      display:flex;\n",
              "      flex-wrap:wrap;\n",
              "      gap: 12px;\n",
              "    }\n",
              "\n",
              "    .colab-df-convert {\n",
              "      background-color: #E8F0FE;\n",
              "      border: none;\n",
              "      border-radius: 50%;\n",
              "      cursor: pointer;\n",
              "      display: none;\n",
              "      fill: #1967D2;\n",
              "      height: 32px;\n",
              "      padding: 0 0 0 0;\n",
              "      width: 32px;\n",
              "    }\n",
              "\n",
              "    .colab-df-convert:hover {\n",
              "      background-color: #E2EBFA;\n",
              "      box-shadow: 0px 1px 2px rgba(60, 64, 67, 0.3), 0px 1px 3px 1px rgba(60, 64, 67, 0.15);\n",
              "      fill: #174EA6;\n",
              "    }\n",
              "\n",
              "    [theme=dark] .colab-df-convert {\n",
              "      background-color: #3B4455;\n",
              "      fill: #D2E3FC;\n",
              "    }\n",
              "\n",
              "    [theme=dark] .colab-df-convert:hover {\n",
              "      background-color: #434B5C;\n",
              "      box-shadow: 0px 1px 3px 1px rgba(0, 0, 0, 0.15);\n",
              "      filter: drop-shadow(0px 1px 2px rgba(0, 0, 0, 0.3));\n",
              "      fill: #FFFFFF;\n",
              "    }\n",
              "  </style>\n",
              "\n",
              "      <script>\n",
              "        const buttonEl =\n",
              "          document.querySelector('#df-0d629aab-3278-4936-81bc-aadda91faa27 button.colab-df-convert');\n",
              "        buttonEl.style.display =\n",
              "          google.colab.kernel.accessAllowed ? 'block' : 'none';\n",
              "\n",
              "        async function convertToInteractive(key) {\n",
              "          const element = document.querySelector('#df-0d629aab-3278-4936-81bc-aadda91faa27');\n",
              "          const dataTable =\n",
              "            await google.colab.kernel.invokeFunction('convertToInteractive',\n",
              "                                                     [key], {});\n",
              "          if (!dataTable) return;\n",
              "\n",
              "          const docLinkHtml = 'Like what you see? Visit the ' +\n",
              "            '<a target=\"_blank\" href=https://colab.research.google.com/notebooks/data_table.ipynb>data table notebook</a>'\n",
              "            + ' to learn more about interactive tables.';\n",
              "          element.innerHTML = '';\n",
              "          dataTable['output_type'] = 'display_data';\n",
              "          await google.colab.output.renderOutput(dataTable, element);\n",
              "          const docLink = document.createElement('div');\n",
              "          docLink.innerHTML = docLinkHtml;\n",
              "          element.appendChild(docLink);\n",
              "        }\n",
              "      </script>\n",
              "    </div>\n",
              "  </div>\n",
              "  "
            ]
          },
          "metadata": {},
          "execution_count": 14
        }
      ]
    },
    {
      "cell_type": "code",
      "source": [
        "x = data.iloc[:,0].values\n",
        "y = data.iloc[:,1].values\n",
        "\n",
        "print(x)\n",
        "print(y)"
      ],
      "metadata": {
        "colab": {
          "base_uri": "https://localhost:8080/"
        },
        "id": "cRhn0_60Ci1J",
        "outputId": "63a77994-2ee9-4d47-f47b-637f8806c3ef"
      },
      "execution_count": null,
      "outputs": [
        {
          "output_type": "stream",
          "name": "stdout",
          "text": [
            "[53.42680403 61.53035803 47.47563963 59.81320787 55.14218841 52.21179669\n",
            " 39.29956669 48.10504169 52.55001444 45.41973014 54.35163488 44.1640495\n",
            " 58.16847072 56.72720806 48.95588857 44.68719623 60.29732685 45.61864377\n",
            " 38.81681754 66.18981661 65.41605175 47.48120861 41.57564262 51.84518691\n",
            " 59.37082201 57.31000344 63.61556125 46.73761941 50.55676015 52.22399609\n",
            " 35.56783005 42.43647694 58.16454011 57.50444762 45.44053073 61.89622268\n",
            " 33.09383174 36.43600951 37.67565486 44.55560838 43.31828263 50.07314563\n",
            " 43.87061265 62.99748075 32.66904376 40.16689901 53.57507753 33.86421497\n",
            " 64.70713867 38.11982403 44.50253806 40.59953838 41.72067636 51.08863468\n",
            " 55.0780959  41.37772653 62.49469743 49.20388754 41.10268519 41.18201611\n",
            " 50.18638949 52.37844622 50.13548549 33.64470601 39.55790122 56.13038882\n",
            " 57.36205213 60.26921439 35.67809389 31.588117   53.66093226 46.68222865\n",
            " 43.10782022 70.34607562 44.49285588 57.5045333  36.93007661 55.80573336\n",
            " 38.95476907 56.9012147  56.86890066 34.3331247  59.04974121 57.78822399\n",
            " 54.28232871 51.0887199  50.28283635 44.21174175 38.00548801 32.94047994\n",
            " 53.69163957 68.76573427 46.2309665  68.31936082 50.03017434 49.23976534\n",
            " 50.03957594 48.14985889 25.12848465]\n",
            "[ 68.77759598  62.5623823   71.54663223  87.23092513  78.21151827\n",
            "  79.64197305  59.17148932  75.3312423   71.30087989  55.16567715\n",
            "  82.47884676  62.00892325  75.39287043  81.43619216  60.72360244\n",
            "  82.89250373  97.37989686  48.84715332  56.87721319  83.87856466\n",
            " 118.5912173   57.25181946  51.39174408  75.38065167  74.76556403\n",
            "  95.45505292  95.22936602  79.05240617  83.43207142  63.35879032\n",
            "  41.4128853   76.61734128  96.76956643  74.08413012  66.58814441\n",
            "  77.76848242  50.71958891  62.12457082  60.81024665  52.68298337\n",
            "  58.56982472  82.90598149  61.4247098  115.2441528   45.57058882\n",
            "  54.0840548   87.99445276  52.72549438  93.57611869  80.16627545\n",
            "  65.10171157  65.56230126  65.28088692  73.43464155  71.13972786\n",
            "  79.10282968  86.52053844  84.74269781  59.35885025  61.68403752\n",
            "  69.84760416  86.09829121  59.10883927  69.89968164  44.86249071\n",
            "  85.49806778  95.53668685  70.25193442  52.72173496  50.39267014\n",
            "  63.64239878  72.24725107  57.81251298 104.25710159  86.64202032\n",
            "  91.486778    55.23166089  79.55043668  44.84712424  80.20752314\n",
            "  83.14274979  55.72348926  77.63418251  99.05141484  79.12064627\n",
            "  69.58889785  69.51050331  73.68756432  61.36690454  67.17065577\n",
            "  85.66820315 114.85387123  90.12357207  97.91982104  81.53699078\n",
            "  72.11183247  85.23200734  66.22495789  53.45439421]\n"
          ]
        }
      ]
    },
    {
      "cell_type": "code",
      "source": [
        "m,c,alpha = 0,0,0.0001\n",
        "n = len(x)\n",
        "\n",
        "def partial_derivative_intercept(y,y_pred):\n",
        "  sum = 0\n",
        "  for i in range(0,n):\n",
        "    sum += (y[i] - y_pred[i])\n",
        "  dm = (-2/n) * sum\n",
        "  return dm\n",
        "\n",
        "#dm = partial_derivative_intercept(x,y)"
      ],
      "metadata": {
        "id": "P9QcQTRYCvyA"
      },
      "execution_count": null,
      "outputs": []
    },
    {
      "cell_type": "code",
      "source": [
        "def partial_derivative_slope(x,y,y_pred):\n",
        "  sum = 0\n",
        "  for i in range(0,n):\n",
        "    sum += x[i]*(y[i] - y_pred[i])\n",
        "  dm = (-2/n) * sum\n",
        "  return dm"
      ],
      "metadata": {
        "id": "UWJhl8chD4Ye"
      },
      "execution_count": null,
      "outputs": []
    },
    {
      "cell_type": "code",
      "source": [
        "def step_size(alpha,d):\n",
        "  stp = alpha*d\n",
        "  return stp"
      ],
      "metadata": {
        "id": "t3GaLeG_D8v5"
      },
      "execution_count": null,
      "outputs": []
    },
    {
      "cell_type": "code",
      "source": [
        "for i in range(0,1000):\n",
        "  y_pred = m*x + c\n",
        "  dm = partial_derivative_slope(x,y,y_pred)\n",
        "  dc = partial_derivative_intercept(y,y_pred)\n",
        "  m = m - step_size(alpha,dm)\n",
        "  c = c - step_size(alpha,dc)\n",
        "\n",
        "def linearRegressor(x_train):\n",
        "  y_pred = m * x_train + c\n",
        "  return y_pred\n"
      ],
      "metadata": {
        "id": "Ip3rpbLSD_dD"
      },
      "execution_count": null,
      "outputs": []
    },
    {
      "cell_type": "code",
      "source": [
        "y1 = linearRegressor(25)\n",
        "y2 = linearRegressor(70)\n",
        "\n",
        "x_points = [25,70]\n",
        "y_points = [y1,y2]\n",
        "plt.xlabel('X')\n",
        "plt.ylabel('y')\n",
        "plt.scatter(x =x ,y = y,color='violet',label='data points')\n",
        "plt.plot(x_points,y_points,color='blue',label='best fit')\n",
        "plt.legend()\n",
        "plt.grid('r')\n",
        "plt.show()"
      ],
      "metadata": {
        "colab": {
          "base_uri": "https://localhost:8080/",
          "height": 279
        },
        "id": "VMjv2_MUY9Hh",
        "outputId": "6b3d4f19-5cdd-4ce1-99dd-374bed659100"
      },
      "execution_count": null,
      "outputs": [
        {
          "output_type": "display_data",
          "data": {
            "text/plain": [
              "<Figure size 432x288 with 1 Axes>"
            ],
            "image/png": "[encoded data removed]"
          },
          "metadata": {
            "needs_background": "light"
          }
        }
      ]
    }
  ]
}